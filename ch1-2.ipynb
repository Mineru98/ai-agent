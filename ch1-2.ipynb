{
 "cells": [
  {
   "cell_type": "markdown",
   "metadata": {},
   "source": [
    "## 패키지 설치"
   ]
  },
  {
   "cell_type": "code",
   "execution_count": null,
   "metadata": {},
   "outputs": [],
   "source": [
    "!pip install bs4==0.0.2 requests==2.32.3 langchain-google-genai==1.0.7 streamlit==1.36.0 pytube youtube-transcript-api==0.6.2 lxml"
   ]
  },
  {
   "cell_type": "markdown",
   "metadata": {},
   "source": [
    "## 유튜브 영상 요약 에이전트"
   ]
  },
  {
   "cell_type": "code",
   "execution_count": null,
   "metadata": {},
   "outputs": [],
   "source": [
    "%%writefile app.py\n",
    "\n",
    "import re\n",
    "from urllib.parse import parse_qs, urlparse\n",
    "\n",
    "import requests\n",
    "import streamlit as st\n",
    "from bs4 import BeautifulSoup\n",
    "from langchain_google_genai import ChatGoogleGenerativeAI\n",
    "from pytube import YouTube\n",
    "from youtube_transcript_api import YouTubeTranscriptApi\n",
    "\n",
    "with st.sidebar:\n",
    "    st.header(\"설정\")\n",
    "    api_key = st.text_input(\"Google API Key를 입력하세요\", type=\"password\")\n",
    "\n",
    "\n",
    "def clean_title(title: str):\n",
    "    title = re.sub(r\"[^\\w\\s]\", \"\", title)\n",
    "    title = title.replace(\" \", \"_\")\n",
    "    return title\n",
    "\n",
    "\n",
    "def get_youtube_title(video_url):\n",
    "    response = requests.get(video_url)\n",
    "    if response.status_code != 200:\n",
    "        return \"Failed to retrieve the page\"\n",
    "\n",
    "    soup = BeautifulSoup(response.text, \"html.parser\")\n",
    "    title = soup.find(\"meta\", property=\"og:title\")\n",
    "\n",
    "    return title[\"content\"] if title else \"Title not found\"\n",
    "\n",
    "\n",
    "def get_youtube_info(url: str):\n",
    "    yt = YouTube(url)\n",
    "    try:\n",
    "        title = get_youtube_title(url)\n",
    "        title = title.replace(\"/\", \"\")\n",
    "        thumbnail_url = yt.thumbnail_url\n",
    "        return title, thumbnail_url\n",
    "    except Exception as e:\n",
    "        st.error(f\"오류 발생: {str(e)}\")\n",
    "        return None, None\n",
    "\n",
    "\n",
    "def get_youtube_video_id(url: str):\n",
    "    if url.startswith(\"https://youtu.be/\"):\n",
    "        video_id = url.split(\"/\")[-1]\n",
    "    elif url.startswith(\"https://www.youtube.com/watch?\"):\n",
    "        parsed_url = urlparse(url)\n",
    "        query_params = parse_qs(parsed_url.query)\n",
    "        video_id = query_params.get(\"v\", [None])[0]\n",
    "    return video_id\n",
    "\n",
    "\n",
    "st.title(\"YouTube 영상 요약 서비스\")\n",
    "\n",
    "# 입력 필드\n",
    "url = st.text_input(\"YouTube URL을 입력하세요\")\n",
    "watch_script = st.checkbox(\"원문 스크립트 포함\")\n",
    "\n",
    "# 모델 선택\n",
    "model_options = [\"gemini-1.5-pro-002\", \"gemini-1.5-flash-002\", \"gemini-1.5-flash-8B\", \"gemini-1.5-pro\", \"gemini-1.5-flash\"]\n",
    "selected_model = st.selectbox(\"모델을 선택하세요\", model_options)\n",
    "\n",
    "if st.button(\"요약하기\") and url:\n",
    "    with st.spinner(\"영상을 분석 중입니다...\"):\n",
    "        # 모델 설정\n",
    "        model = selected_model\n",
    "        llm = ChatGoogleGenerativeAI(model=model, google_api_key=api_key)\n",
    "\n",
    "        # 영상 정보 추출\n",
    "        title, thumbnail_url = get_youtube_info(url)\n",
    "\n",
    "        if title and thumbnail_url:\n",
    "            st.image(thumbnail_url, caption=title)\n",
    "\n",
    "            # 자막 추출\n",
    "            video_id = get_youtube_video_id(url)\n",
    "            try:\n",
    "                srt = YouTubeTranscriptApi.get_transcript(video_id, languages=[\"ko\"])\n",
    "                content = [i for i in srt if i[\"text\"] != \"[음악]\"]\n",
    "\n",
    "                # 프롬프트 생성\n",
    "                base_script = \"\"\"### 명령어\n",
    "내가 만든 스타일대로 markdown 양식으로 변환해줘.\n",
    "\n",
    "### 요구사항\n",
    "- timestamp_summary는 적절하게 타임스탬프를 큰 내용 단위로 나눠줘.\n",
    "- timestamp_summary는 정적인 분위기가 아닌, 얘기를 하듯이 작성해줘.\n",
    "- timestamp_summary는 반드시 한글로 작성해줘.\n",
    "- tags는 이 영상을 분류하기 위한 목적으로 만들어줘,\n",
    "- tgas는 최대 5개까지만 만들어줘,\n",
    "- 타임라인은 5분 미만의 영상의 경우에는 최소 3개의 타임라인이 나와야 하고 10분 미만의 영상의 경우에는 최소 6개의 타임라인이 나와야 합니다. 30분 이상의 영상의 경우에는 최소 10분당 2개 이상의 타임라인이 만들어져야 합니다.\n",
    "- title 들을 적을 땐, 가능하면 title의 앞 부분에 해당 요약 내용에 어울리는 이모티콘을 하나 배정해줘.\n",
    "- 타임라인에 타임스탬프는 해당 유튜브 영상의 위치로 클릭 해서 이동할 수 있게 t 파라미터를 추가해서 해당 타임 스탬프의 초 단위 값을 넣어줘.\n",
    "\n",
    "### 양식\n",
    "---\n",
    "tags:\n",
    "- {tag_name_1}\n",
    "- {tag_name_2}\n",
    "- ...\n",
    "url: {youtube_url}\n",
    "---\n",
    "# 핵심주제\n",
    "<details open>\n",
    "<summary>{timeline_summary_title_1}</summary>\n",
    "<ul>\n",
    "<li>...</li>\n",
    "...\n",
    "</ul>\n",
    "</details>\n",
    "\n",
    "# 타임라인\n",
    "[[{hh:mm:ss}]]({youtube_url}&t={second}) {timestamp_summary_title_1}\n",
    "- {timestamp_summary_1_content}\n",
    "- ...\n",
    "{more}\n",
    "...\"\"\".replace(\n",
    "                    \"{youtube_url}\", url\n",
    "                )\n",
    "\n",
    "                if watch_script:\n",
    "                    base_script = base_script.replace(\n",
    "                        \"{more}\",\n",
    "                        \"\"\"<details open>\n",
    "<summary>원문 스크립트 보기</summary>\n",
    "{original_script}\n",
    "</details>\"\"\",\n",
    "                    )\n",
    "                else:\n",
    "                    base_script = base_script.replace(\"{more}\\n\", \"\")\n",
    "\n",
    "                messages = [\n",
    "                    (\"system\", base_script),\n",
    "                    (\"human\", f\"### 입력 데이터\\n{content}\\n### 출력\\n\"),\n",
    "                ]\n",
    "\n",
    "                result = llm.invoke(messages)\n",
    "                if result.content:\n",
    "                    st.markdown(result.content)\n",
    "\n",
    "                    # 결과 파일 저장\n",
    "                    if st.button(\"결과 저장하기\"):\n",
    "                        with open(f\"{title}.md\", mode=\"w\", encoding=\"utf-8\") as f:\n",
    "                            f.write(result.content)\n",
    "                        st.success(\"파일이 저장되었습니다!\")\n",
    "                else:\n",
    "                    st.error(\"요약 생성에 실패했습니다.\")\n",
    "\n",
    "            except Exception as e:\n",
    "                st.error(f\"자막 추출 중 오류가 발생했습니다: {str(e)}\")\n"
   ]
  },
  {
   "cell_type": "markdown",
   "metadata": {},
   "source": [
    "# 코랩 ip 확인"
   ]
  },
  {
   "cell_type": "code",
   "execution_count": null,
   "metadata": {},
   "outputs": [],
   "source": [
    "import urllib\n",
    "print(\"Password/Enpoint IP for localtunnel is:\",urllib.request.urlopen('https://ipv4.icanhazip.com').read().decode('utf8').strip(\"\\n\"))"
   ]
  },
  {
   "cell_type": "markdown",
   "metadata": {},
   "source": [
    "# 포트 터널링 node 패키지 설치"
   ]
  },
  {
   "cell_type": "code",
   "execution_count": null,
   "metadata": {},
   "outputs": [],
   "source": [
    "!npm install localtunnel"
   ]
  },
  {
   "cell_type": "markdown",
   "metadata": {},
   "source": [
    "# 웹 프로그램 실행"
   ]
  },
  {
   "cell_type": "code",
   "execution_count": null,
   "metadata": {},
   "outputs": [],
   "source": [
    "!streamlit run app.py &>/content/logs.txt &"
   ]
  },
  {
   "cell_type": "markdown",
   "metadata": {},
   "source": [
    "# 포트 개방"
   ]
  },
  {
   "cell_type": "code",
   "execution_count": null,
   "metadata": {},
   "outputs": [],
   "source": [
    "!npx localtunnel --port 8501"
   ]
  }
 ],
 "metadata": {
  "kernelspec": {
   "display_name": "Python 3",
   "language": "python",
   "name": "python3"
  },
  "language_info": {
   "codemirror_mode": {
    "name": "ipython",
    "version": 3
   },
   "file_extension": ".py",
   "mimetype": "text/x-python",
   "name": "python",
   "nbconvert_exporter": "python",
   "pygments_lexer": "ipython3",
   "version": "3.12.7"
  }
 },
 "nbformat": 4,
 "nbformat_minor": 2
}
