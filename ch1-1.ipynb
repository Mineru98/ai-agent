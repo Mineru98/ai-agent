{
 "cells": [
  {
   "cell_type": "markdown",
   "metadata": {},
   "source": [
    "## 패키지 설치"
   ]
  },
  {
   "cell_type": "code",
   "execution_count": null,
   "metadata": {},
   "outputs": [],
   "source": [
    "!pip install bs4==0.0.2 requests==2.32.3 langchain-google-genai==1.0.7 streamlit==1.36.0 pytube youtube-transcript-api==0.6.2 lxml"
   ]
  },
  {
   "cell_type": "markdown",
   "metadata": {},
   "source": [
    "## 유튜브 영상 요약 에이전트"
   ]
  },
  {
   "cell_type": "code",
   "execution_count": 1,
   "metadata": {},
   "outputs": [],
   "source": [
    "import os\n",
    "\n",
    "if \"GOOGLE_API_KEY\" not in os.environ:\n",
    "    os.environ[\"GOOGLE_API_KEY\"] = \"AI\""
   ]
  },
  {
   "cell_type": "code",
   "execution_count": 2,
   "metadata": {},
   "outputs": [],
   "source": [
    "import re\n",
    "\n",
    "def clean_title(title: str):\n",
    "    # 특수문자 제거 (알파벳, 숫자, 공백만 남김)\n",
    "    title = re.sub(r\"[^\\w\\s]\", \"\", title)\n",
    "    # 공백을 밑줄로 대체\n",
    "    title = title.replace(\" \", \"_\")\n",
    "    return title"
   ]
  },
  {
   "cell_type": "code",
   "execution_count": 19,
   "metadata": {},
   "outputs": [],
   "source": [
    "import requests\n",
    "from bs4 import BeautifulSoup\n",
    "\n",
    "def get_youtube_title(video_url):\n",
    "    response = requests.get(video_url)\n",
    "    \n",
    "    if response.status_code != 200:\n",
    "        return \"Failed to retrieve the page\"\n",
    "    \n",
    "    # HTML 파싱\n",
    "    soup = BeautifulSoup(response.text, 'html.parser')\n",
    "    \n",
    "    # 제목 찾기\n",
    "    title = soup.find(\"meta\", property=\"og:title\")\n",
    "    \n",
    "    if title:\n",
    "        return title[\"content\"]\n",
    "    else:\n",
    "        return \"Title not found\""
   ]
  },
  {
   "cell_type": "code",
   "execution_count": 17,
   "metadata": {},
   "outputs": [],
   "source": [
    "import requests\n",
    "from pytube import YouTube\n",
    "\n",
    "def get_youtube_info(url: str):\n",
    "    yt = YouTube(url)\n",
    "    try:\n",
    "        title = get_youtube_title(url)\n",
    "        title = title.replace(\"/\", \"\")\n",
    "        thumbnail_url = yt.thumbnail_url\n",
    "        thumbnail_path = \"{}.jpg\".format(title[:100])\n",
    "        res = requests.get(thumbnail_url)\n",
    "        with open(thumbnail_path, \"wb\") as f:\n",
    "            f.write(res.content)\n",
    "        return title, thumbnail_path\n",
    "    except Exception as e:\n",
    "        print(f\"오류 발생: {str(e)}\")\n",
    "        return None, None"
   ]
  },
  {
   "cell_type": "code",
   "execution_count": 4,
   "metadata": {},
   "outputs": [],
   "source": [
    "from urllib.parse import parse_qs, urlparse\n",
    "\n",
    "def get_youtube_video_id(url: str):\n",
    "    if url.startswith(\"https://youtu.be/\"):\n",
    "        video_id = url.split(\"/\")[-1]\n",
    "    elif url.startswith(\"https://www.youtube.com/watch?\"):\n",
    "        parsed_url = urlparse(url)\n",
    "        query_params = parse_qs(parsed_url.query)\n",
    "        video_id = query_params.get(\"v\", [None])[0]\n",
    "    return video_id"
   ]
  },
  {
   "cell_type": "code",
   "execution_count": 20,
   "metadata": {},
   "outputs": [],
   "source": [
    "from youtube_transcript_api import YouTubeTranscriptApi\n",
    "from langchain_google_genai import ChatGoogleGenerativeAI\n",
    "\n",
    "# 유튜브 영상 url\n",
    "url = \"https://www.youtube.com/watch?v=LiikA4yx2pA\"\n",
    "\n",
    "# 원문 스크립트 포함 여부\n",
    "watch_script = False\n",
    "\n",
    "# 모델 정의\n",
    "model = \"gemini-1.5-flash\"\n",
    "\n",
    "# 유튜브 영상 정보 추출\n",
    "title, thumbnail_path = get_youtube_info(url)\n",
    "\n",
    "# 유튜브 영상 id 추출\n",
    "video_id = get_youtube_video_id(url)\n",
    "\n",
    "# 유튜브 자막 추출\n",
    "srt = YouTubeTranscriptApi.get_transcript(video_id, languages=[\"ko\"])\n",
    "\n",
    "# 음악 표시 정보 제거\n",
    "content = [i for i in srt if i[\"text\"] != \"[음악]\"]\n",
    "\n",
    "\n",
    "llm = ChatGoogleGenerativeAI(model=model)"
   ]
  },
  {
   "cell_type": "code",
   "execution_count": 21,
   "metadata": {},
   "outputs": [],
   "source": [
    "base_script = \"\"\"### 명령어\n",
    "내가 만든 스타일대로 markdown 양식으로 변환해줘.\n",
    "\n",
    "### 요구사항\n",
    "- timestamp_summary는 적절하게 타임스탬프를 큰 내용 단위로 나눠줘.\n",
    "- timestamp_summary는 정적인 분위기가 아닌, 얘기를 하듯이 작성해줘.\n",
    "- timestamp_summary는 반드시 한글로 작성해줘.\n",
    "- tags는 이 영상을 분류하기 위한 목적으로 만들어줘,\n",
    "- tgas는 최대 5개까지만 만들어줘,\n",
    "- 타임라인은 5분 미만의 영상의 경우에는 최소 3개의 타임라인이 나와야 하고 10분 미만의 영상의 경우에는 최소 6개의 타임라인이 나와야 합니다. 30분 이상의 영상의 경우에는 최소 10분당 2개 이상의 타임라인이 만들어져야 합니다.\n",
    "- title 들을 적을 땐, 가능하면 title의 앞 부분에 해당 요약 내용에 어울리는 이모티콘을 하나 배정해줘.\n",
    "- 타임라인에 타임스탬프는 해당 유튜브 영상의 위치로 클릭 해서 이동할 수 있게 t 파라미터를 추가해서 해당 타임 스탬프의 초 단위 값을 넣어줘.\n",
    "\n",
    "### 양식\n",
    "---\n",
    "tags:\n",
    "- {tag_name_1}\n",
    "- {tag_name_2}\n",
    "- ...\n",
    "url: {youtube_url}\n",
    "---\n",
    "# 핵심주제\n",
    "<details open>\n",
    "<summary>{timeline_summary_title_1}</summary>\n",
    "<ul>\n",
    "<li>...</li>\n",
    "...\n",
    "</ul>\n",
    "</details>\n",
    "\n",
    "<details open>\n",
    "<summary>{timeline_summary_title_2}</summary>\n",
    "<ul>\n",
    "<li>...</li>\n",
    "...\n",
    "</ul>\n",
    "</details>\n",
    "...\n",
    "\n",
    "# 타임라인\n",
    "[[{hh:mm:ss}]]({youtube_url}&t={second}) {timestamp_summary_title_1}\n",
    "- {timestamp_summary_1_content}\n",
    "- ...\n",
    "{more}\n",
    "...\n",
    "\"\"\".replace(\"{youtube_url}\", url)"
   ]
  },
  {
   "cell_type": "code",
   "execution_count": null,
   "metadata": {},
   "outputs": [],
   "source": [
    "print(base_script)"
   ]
  },
  {
   "cell_type": "code",
   "execution_count": 30,
   "metadata": {},
   "outputs": [],
   "source": [
    "if watch_script:\n",
    "    base_script = base_script.replace(\n",
    "        \"{more}\",\n",
    "        \"\"\"<details open>\n",
    "<summary>원문 스크립트 보기</summary>\n",
    "{original_script}\n",
    "</details>\"\"\",\n",
    "    )\n",
    "else:\n",
    "    base_script = base_script.replace(\"{more}\\n\", \"\")\n",
    "messages = [\n",
    "    (\"system\", base_script),\n",
    "    (\"human\", f\"### 입력 데이터\\n{content}\\n### 출력\\n\"),\n",
    "]\n",
    "result = llm.invoke(messages)\n",
    "if result.content != \"\":\n",
    "    with open(\"{}.md\".format(title), mode=\"w\", encoding=\"utf-8\") as f:\n",
    "        f.write(result.content)\n",
    "else:\n",
    "    print(\"무언가 문제가 발생했습니다.\")"
   ]
  },
  {
   "cell_type": "code",
   "execution_count": null,
   "metadata": {},
   "outputs": [],
   "source": [
    "from IPython.display import Markdown, display\n",
    "\n",
    "def render_markdown(text):\n",
    "    display(Markdown(text))\n",
    "render_markdown(result.content)"
   ]
  }
 ],
 "metadata": {
  "kernelspec": {
   "display_name": "Python 3",
   "language": "python",
   "name": "python3"
  },
  "language_info": {
   "codemirror_mode": {
    "name": "ipython",
    "version": 3
   },
   "file_extension": ".py",
   "mimetype": "text/x-python",
   "name": "python",
   "nbconvert_exporter": "python",
   "pygments_lexer": "ipython3",
   "version": "3.12.7"
  }
 },
 "nbformat": 4,
 "nbformat_minor": 2
}
